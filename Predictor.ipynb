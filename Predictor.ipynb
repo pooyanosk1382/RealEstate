{
 "cells": [
  {
   "cell_type": "code",
   "execution_count": 74,
   "outputs": [],
   "source": [
    "import numpy as np\n",
    "import matplotlib.pyplot as plt\n",
    "import pandas as pd\n",
    "from xgboost import XGBRegressor, XGBClassifier\n",
    "from sklearn.metrics import r2_score\n",
    "from sklearn.model_selection import train_test_split\n",
    "from sklearn.compose import ColumnTransformer\n",
    "from sklearn.preprocessing import OneHotEncoder, LabelEncoder, OrdinalEncoder"
   ],
   "metadata": {
    "collapsed": false,
    "pycharm": {
     "name": "#%%\n"
    }
   }
  },
  {
   "cell_type": "code",
   "execution_count": 75,
   "outputs": [],
   "source": [
    "dataset = pd.read_csv('Price.csv')\n",
    "x = dataset.iloc[:, :6].values\n",
    "y = dataset.iloc[:,  6].values"
   ],
   "metadata": {
    "collapsed": false,
    "pycharm": {
     "name": "#%%\n"
    }
   }
  },
  {
   "cell_type": "code",
   "execution_count": 76,
   "outputs": [
    {
     "name": "stdout",
     "output_type": "stream",
     "text": [
      "[[63 1 1 1 1 'Shahran']\n",
      " [60 1 1 1 1 'Shahran']\n",
      " [79 2 1 1 1 'Pardis']\n",
      " [95 2 1 1 1 'Shahrake Qods']\n",
      " [123 2 1 1 1 'Shahrake Gharb']\n",
      " [70 2 1 1 0 'North Program Organization']\n",
      " [87 2 1 1 1 'Pardis']\n",
      " [59 1 1 1 1 'Shahran']\n",
      " [54 2 1 1 0 'Andisheh']\n",
      " [71 1 1 1 1 'West Ferdows Boulevard']\n",
      " [68 2 1 1 1 'West Ferdows Boulevard']\n",
      " [64 1 1 1 1 'Narmak']\n",
      " [54 1 0 1 1 'Narmak']\n",
      " [136 3 1 1 1 'Saadat Abad']\n",
      " [95 2 1 1 1 'Zafar']\n",
      " [63 1 0 1 0 'Islamshahr']\n",
      " [155 3 1 1 1 'Narmak']\n",
      " [64 2 0 1 0 'Pirouzi']\n",
      " [140 3 1 1 1 'West Ferdows Boulevard']\n",
      " [42 1 0 1 0 'Pirouzi']\n",
      " [93 2 1 1 1 'Shahrake Gharb']\n",
      " [87 2 1 1 1 'Shahrake Shahid Bagheri']\n",
      " [65 1 1 1 1 'Shahran']\n",
      " [99 2 1 1 1 'Moniriyeh']\n",
      " [105 2 1 1 1 'Saadat Abad']\n",
      " [160 3 1 1 1 'Velenjak']\n",
      " [77 2 1 1 1 'Amirieh']\n",
      " [123 2 1 1 1 'Pirouzi']\n",
      " [110 2 1 1 1 'Southern Janatabad']\n",
      " [100 2 1 1 1 'West Ferdows Boulevard']\n",
      " [90 2 0 1 0 'Salsabil']\n",
      " [49 1 1 1 1 'West Ferdows Boulevard']\n",
      " [96 2 1 1 1 'Zargandeh']\n",
      " [67 2 1 1 0 'Feiz Garden']\n",
      " [68 2 1 1 1 'West Ferdows Boulevard']\n",
      " [62 1 1 0 1 'Water Organization']\n",
      " [55 1 1 1 1 'West Ferdows Boulevard']\n",
      " [110 2 1 1 1 'West Ferdows Boulevard']\n",
      " [129 2 1 1 1 'West Ferdows Boulevard']\n",
      " [109 2 1 1 1 'West Ferdows Boulevard']\n",
      " [58 1 1 1 1 'Saadat Abad']\n",
      " [55 1 1 1 1 'Saadat Abad']\n",
      " [150 2 0 1 1 'Shahrake Qods']\n",
      " [60 2 1 1 1 'ShahrAra']\n",
      " [130 3 1 1 0 'Gisha']\n",
      " [88 2 1 1 1 'Gisha']\n",
      " [51 1 1 1 1 'Shahrake Gharb']\n",
      " [113 3 1 1 0 'Ray']\n",
      " [110 2 1 1 1 'Abbasabad']\n",
      " [60 1 1 1 1 'Pardis']\n",
      " [98 2 1 1 1 'Ostad Moein']\n",
      " [62 2 0 0 1 'Farmanieh']\n",
      " [150 3 1 1 1 'Parand']\n",
      " [75 2 0 0 0 'Punak']\n",
      " [61 1 1 1 0 'Punak']\n",
      " [61 1 1 1 0 'Shahran']\n",
      " [72 2 1 1 1 'Qasr-od-Dasht']\n",
      " [100 2 1 1 1 'Aqdasieh']\n",
      " [122 3 1 1 1 'Pakdasht']\n",
      " [215 3 1 1 1 'Railway']\n",
      " [101 2 1 1 1 'Punak']\n",
      " [67 2 1 1 1 'Punak']\n",
      " [72 2 1 1 0 'Punak']\n",
      " [63 1 1 1 0 'Punak']\n",
      " [75 2 1 1 0 'Shahran']\n",
      " [109 2 1 1 1 'Aqdasieh']\n",
      " [122 2 1 1 1 'Central Janatabad']\n",
      " [70 1 1 1 1 'West Ferdows Boulevard']\n",
      " [60 1 1 1 1 'East Ferdows Boulevard']\n",
      " [53 1 1 1 0 'Pakdasht KhatunAbad']\n",
      " [90 1 0 1 0 'Amirieh']\n",
      " [72 2 1 1 1 'Amirieh']\n",
      " [74 2 1 1 1 'Parand']\n",
      " [88 3 0 0 1 'Punak']\n",
      " [63 1 1 1 1 'Sattarkhan']\n",
      " [114 3 1 1 1 'Saadat Abad']\n",
      " [151 3 1 1 1 'Shahran']\n",
      " [42 1 1 0 1 'Amirieh']\n",
      " [74 2 1 1 1 'Parand']\n",
      " [88 3 0 0 1 'Punak']\n",
      " [63 1 1 1 1 'Sattarkhan']\n",
      " [114 3 1 1 1 'Saadat Abad']\n",
      " [151 3 1 1 1 'Shahran']\n",
      " [42 1 1 0 1 'Baghestan']\n",
      " [300 3 1 1 0 'West Ferdows Boulevard']\n",
      " [110 2 1 1 1 'Shahrake Qods']\n",
      " [100 2 0 0 0 'Shahryar']\n",
      " [140 1 0 0 0 'Northern Janatabad']\n",
      " [70 2 1 1 1 'West Ferdows Boulevard']\n",
      " [60 2 1 1 0 'North Program Organization']\n",
      " [76 2 1 1 1 'Daryan No']\n",
      " [148 3 1 1 1 'North Program Organization']\n",
      " [75 2 1 1 1 'Pirouzi']\n",
      " [40 1 1 1 0 'Southern Program Organization']\n",
      " [65 2 1 1 1 'Rudhen']\n",
      " [140 3 1 1 1 'West Pars']\n",
      " [110 2 1 1 1 'Afsarieh']\n",
      " [70 2 1 0 1 'Marzdaran']\n",
      " [128 3 1 1 1 'Parand']\n",
      " [94 2 1 1 1 'Punak']\n",
      " [67 1 1 1 1 'Shahrake Qods']\n",
      " [75 1 1 1 1 'Dorous']\n",
      " [130 2 1 1 1 'Shahrake Qods']\n",
      " [40 0 0 0 0 'Pardis']\n",
      " [97 2 1 1 1 'Shahran']\n",
      " [110 2 1 1 1 'Sadeghieh']\n",
      " [150 3 1 1 1 'Chahardangeh']\n",
      " [75 2 0 0 0 'ShahrAra']\n",
      " [137 3 1 1 1 'Parand']\n",
      " [85 2 1 1 1 'Pakdasht']\n",
      " [68 2 0 1 0 'Baqershahr']\n",
      " [78 2 0 1 0 'Parand']\n",
      " [85 2 1 1 1 'Parand']\n",
      " [100 2 1 1 0 'Punak']\n",
      " [71 2 1 1 1 'Gisha']\n",
      " [140 3 1 1 1 'Parand']\n",
      " [136 3 1 1 0 'Jeyhoon']\n",
      " [48 1 0 0 0 'Lavizan']\n",
      " [100 2 1 1 1 'Shams Abad']\n",
      " [82 2 1 0 1 'Fatemi']\n",
      " [120 3 1 1 1 'Gisha']\n",
      " [139 3 1 1 1 'Keshavarz Boulevard']\n",
      " [110 3 1 1 1 'Parand']\n",
      " [78 2 0 0 1 'Baghestan']\n",
      " [79 2 0 0 0 'Salsabil']\n",
      " [66 2 1 1 1 'Kahrizak']\n",
      " [78 2 1 1 1 'Shahryar']\n",
      " [85 2 1 1 1 'Qarchak']\n",
      " [100 2 1 1 0 'Northren Jamalzadeh']\n",
      " [80 2 1 1 1 'Salsabil']\n",
      " [44 1 1 1 0 'Shahryar']\n",
      " [120 2 1 1 0 'Shahrake Qods']\n",
      " [50 1 0 1 0 'Ostad Moein']\n",
      " [121 3 1 1 0 'Azarbaijan']\n",
      " [80 2 1 1 1 'Bahar']\n",
      " [70 2 0 1 1 'Qarchak']\n",
      " [160 1 0 0 0 'Pakdasht']\n",
      " [40 0 0 0 0 'Railway']\n",
      " [88 2 1 1 1 'Persian Gulf Martyrs Lake']\n",
      " [141 3 1 1 1 'Persian Gulf Martyrs Lake']\n",
      " [140 3 1 1 1 'Persian Gulf Martyrs Lake']\n",
      " [120 2 1 1 1 'Beryanak']\n",
      " [66 2 0 1 0 'Punak']\n",
      " [70 2 1 1 1 'Heshmatieh']\n",
      " [75 2 1 0 1 'Elm-o-Sanat']\n",
      " [70 2 0 1 1 'Saadat Abad']\n",
      " [150 3 1 1 1 'Golestan']\n",
      " [95 2 1 1 1 'Southern Janatabad']\n",
      " [127 2 1 1 1 'Shahr-e-Ziba']\n",
      " [123 3 1 1 1 'Southern Janatabad']]\n"
     ]
    }
   ],
   "source": [
    "le = LabelEncoder()\n",
    "x[:, 2] = le.fit_transform(x[:, 2])\n",
    "x[:, 3] = le.fit_transform(x[:, 3])\n",
    "x[:, 4] = le.fit_transform(x[:, 4])\n",
    "print(x)"
   ],
   "metadata": {
    "collapsed": false,
    "pycharm": {
     "name": "#%%\n"
    }
   }
  },
  {
   "cell_type": "code",
   "execution_count": 77,
   "outputs": [
    {
     "name": "stdout",
     "output_type": "stream",
     "text": [
      "[[55.0 63 1 1 1 1]\n",
      " [55.0 60 1 1 1 1]\n",
      " [37.0 79 2 1 1 1]\n",
      " [53.0 95 2 1 1 1]\n",
      " [52.0 123 2 1 1 1]\n",
      " [30.0 70 2 1 1 0]\n",
      " [37.0 87 2 1 1 1]\n",
      " [55.0 59 1 1 1 1]\n",
      " [3.0 54 2 1 1 0]\n",
      " [62.0 71 1 1 1 1]\n",
      " [62.0 68 2 1 1 1]\n",
      " [29.0 64 1 1 1 1]\n",
      " [29.0 54 1 0 1 1]\n",
      " [46.0 136 3 1 1 1]\n",
      " [64.0 95 2 1 1 1]\n",
      " [22.0 63 1 0 1 0]\n",
      " [29.0 155 3 1 1 1]\n",
      " [39.0 64 2 0 1 0]\n",
      " [62.0 140 3 1 1 1]\n",
      " [39.0 42 1 0 1 0]\n",
      " [52.0 93 2 1 1 1]\n",
      " [54.0 87 2 1 1 1]\n",
      " [55.0 65 1 1 1 1]\n",
      " [28.0 99 2 1 1 1]\n",
      " [46.0 105 2 1 1 1]\n",
      " [60.0 160 3 1 1 1]\n",
      " [2.0 77 2 1 1 1]\n",
      " [39.0 123 2 1 1 1]\n",
      " [58.0 110 2 1 1 1]\n",
      " [62.0 100 2 1 1 1]\n",
      " [48.0 90 2 0 1 0]\n",
      " [62.0 49 1 1 1 1]\n",
      " [65.0 96 2 1 1 1]\n",
      " [18.0 67 2 1 1 0]\n",
      " [62.0 68 2 1 1 1]\n",
      " [61.0 62 1 1 0 1]\n",
      " [62.0 55 1 1 1 1]\n",
      " [62.0 110 2 1 1 1]\n",
      " [62.0 129 2 1 1 1]\n",
      " [62.0 109 2 1 1 1]\n",
      " [46.0 58 1 1 1 1]\n",
      " [46.0 55 1 1 1 1]\n",
      " [53.0 150 2 0 1 1]\n",
      " [51.0 60 2 1 1 1]\n",
      " [19.0 130 3 1 1 0]\n",
      " [19.0 88 2 1 1 1]\n",
      " [52.0 51 1 1 1 1]\n",
      " [44.0 113 3 1 1 0]\n",
      " [0.0 110 2 1 1 1]\n",
      " [37.0 60 1 1 1 1]\n",
      " [33.0 98 2 1 1 1]\n",
      " [16.0 62 2 0 0 1]\n",
      " [36.0 150 3 1 1 1]\n",
      " [40.0 75 2 0 0 0]\n",
      " [40.0 61 1 1 1 0]\n",
      " [55.0 61 1 1 1 0]\n",
      " [42.0 72 2 1 1 1]\n",
      " [4.0 100 2 1 1 1]\n",
      " [34.0 122 3 1 1 1]\n",
      " [43.0 215 3 1 1 1]\n",
      " [40.0 101 2 1 1 1]\n",
      " [40.0 67 2 1 1 1]\n",
      " [40.0 72 2 1 1 0]\n",
      " [40.0 63 1 1 1 0]\n",
      " [55.0 75 2 1 1 0]\n",
      " [4.0 109 2 1 1 1]\n",
      " [10.0 122 2 1 1 1]\n",
      " [62.0 70 1 1 1 1]\n",
      " [14.0 60 1 1 1 1]\n",
      " [35.0 53 1 1 1 0]\n",
      " [2.0 90 1 0 1 0]\n",
      " [2.0 72 2 1 1 1]\n",
      " [36.0 74 2 1 1 1]\n",
      " [40.0 88 3 0 0 1]\n",
      " [49.0 63 1 1 1 1]\n",
      " [46.0 114 3 1 1 1]\n",
      " [55.0 151 3 1 1 1]\n",
      " [2.0 42 1 1 0 1]\n",
      " [36.0 74 2 1 1 1]\n",
      " [40.0 88 3 0 0 1]\n",
      " [49.0 63 1 1 1 1]\n",
      " [46.0 114 3 1 1 1]\n",
      " [55.0 151 3 1 1 1]\n",
      " [6.0 42 1 1 0 1]\n",
      " [62.0 300 3 1 1 0]\n",
      " [53.0 110 2 1 1 1]\n",
      " [56.0 100 2 0 0 0]\n",
      " [31.0 140 1 0 0 0]\n",
      " [62.0 70 2 1 1 1]\n",
      " [30.0 60 2 1 1 0]\n",
      " [12.0 76 2 1 1 1]\n",
      " [30.0 148 3 1 1 1]\n",
      " [39.0 75 2 1 1 1]\n",
      " [59.0 40 1 1 1 0]\n",
      " [45.0 65 2 1 1 1]\n",
      " [63.0 140 3 1 1 1]\n",
      " [1.0 110 2 1 1 1]\n",
      " [27.0 70 2 1 0 1]\n",
      " [36.0 128 3 1 1 1]\n",
      " [40.0 94 2 1 1 1]\n",
      " [53.0 67 1 1 1 1]\n",
      " [13.0 75 1 1 1 1]\n",
      " [53.0 130 2 1 1 1]\n",
      " [37.0 40 0 0 0 0]\n",
      " [55.0 97 2 1 1 1]\n",
      " [47.0 110 2 1 1 1]\n",
      " [11.0 150 3 1 1 1]\n",
      " [51.0 75 2 0 0 0]\n",
      " [36.0 137 3 1 1 1]\n",
      " [34.0 85 2 1 1 1]\n",
      " [8.0 68 2 0 1 0]\n",
      " [36.0 78 2 0 1 0]\n",
      " [36.0 85 2 1 1 1]\n",
      " [40.0 100 2 1 1 0]\n",
      " [19.0 71 2 1 1 1]\n",
      " [36.0 140 3 1 1 1]\n",
      " [23.0 136 3 1 1 0]\n",
      " [26.0 48 1 0 0 0]\n",
      " [57.0 100 2 1 1 1]\n",
      " [17.0 82 2 1 0 1]\n",
      " [19.0 120 3 1 1 1]\n",
      " [25.0 139 3 1 1 1]\n",
      " [36.0 110 3 1 1 1]\n",
      " [6.0 78 2 0 0 1]\n",
      " [48.0 79 2 0 0 0]\n",
      " [24.0 66 2 1 1 1]\n",
      " [56.0 78 2 1 1 1]\n",
      " [41.0 85 2 1 1 1]\n",
      " [32.0 100 2 1 1 0]\n",
      " [48.0 80 2 1 1 1]\n",
      " [56.0 44 1 1 1 0]\n",
      " [53.0 120 2 1 1 0]\n",
      " [33.0 50 1 0 1 0]\n",
      " [5.0 121 3 1 1 0]\n",
      " [7.0 80 2 1 1 1]\n",
      " [41.0 70 2 0 1 1]\n",
      " [34.0 160 1 0 0 0]\n",
      " [43.0 40 0 0 0 0]\n",
      " [38.0 88 2 1 1 1]\n",
      " [38.0 141 3 1 1 1]\n",
      " [38.0 140 3 1 1 1]\n",
      " [9.0 120 2 1 1 1]\n",
      " [40.0 66 2 0 1 0]\n",
      " [21.0 70 2 1 1 1]\n",
      " [15.0 75 2 1 0 1]\n",
      " [46.0 70 2 0 1 1]\n",
      " [20.0 150 3 1 1 1]\n",
      " [58.0 95 2 1 1 1]\n",
      " [50.0 127 2 1 1 1]\n",
      " [58.0 123 3 1 1 1]]\n"
     ]
    }
   ],
   "source": [
    "ct = ColumnTransformer(transformers=[('encoder', OrdinalEncoder(), [5])], remainder='passthrough')\n",
    "x = np.array(ct.fit_transform(x))\n",
    "print(x)"
   ],
   "metadata": {
    "collapsed": false,
    "pycharm": {
     "name": "#%%\n"
    }
   }
  },
  {
   "cell_type": "code",
   "execution_count": 78,
   "outputs": [],
   "source": [
    "xTrain, xTest, yTrain, yTest = train_test_split(x, y, test_size=0.1, random_state=0)"
   ],
   "metadata": {
    "collapsed": false,
    "pycharm": {
     "name": "#%%\n"
    }
   }
  },
  {
   "cell_type": "code",
   "execution_count": 79,
   "outputs": [
    {
     "data": {
      "text/plain": "XGBRegressor(base_score=None, booster=None, callbacks=None,\n             colsample_bylevel=None, colsample_bynode=None,\n             colsample_bytree=None, early_stopping_rounds=None,\n             enable_categorical=False, eval_metric=None, feature_types=None,\n             gamma=None, gpu_id=None, grow_policy=None, importance_type=None,\n             interaction_constraints=None, learning_rate=None, max_bin=None,\n             max_cat_threshold=None, max_cat_to_onehot=None,\n             max_delta_step=None, max_depth=None, max_leaves=None,\n             min_child_weight=None, missing=nan, monotone_constraints=None,\n             n_estimators=100, n_jobs=None, num_parallel_tree=None,\n             predictor=None, random_state=None, ...)",
      "text/html": "<style>#sk-container-id-4 {color: black;background-color: white;}#sk-container-id-4 pre{padding: 0;}#sk-container-id-4 div.sk-toggleable {background-color: white;}#sk-container-id-4 label.sk-toggleable__label {cursor: pointer;display: block;width: 100%;margin-bottom: 0;padding: 0.3em;box-sizing: border-box;text-align: center;}#sk-container-id-4 label.sk-toggleable__label-arrow:before {content: \"▸\";float: left;margin-right: 0.25em;color: #696969;}#sk-container-id-4 label.sk-toggleable__label-arrow:hover:before {color: black;}#sk-container-id-4 div.sk-estimator:hover label.sk-toggleable__label-arrow:before {color: black;}#sk-container-id-4 div.sk-toggleable__content {max-height: 0;max-width: 0;overflow: hidden;text-align: left;background-color: #f0f8ff;}#sk-container-id-4 div.sk-toggleable__content pre {margin: 0.2em;color: black;border-radius: 0.25em;background-color: #f0f8ff;}#sk-container-id-4 input.sk-toggleable__control:checked~div.sk-toggleable__content {max-height: 200px;max-width: 100%;overflow: auto;}#sk-container-id-4 input.sk-toggleable__control:checked~label.sk-toggleable__label-arrow:before {content: \"▾\";}#sk-container-id-4 div.sk-estimator input.sk-toggleable__control:checked~label.sk-toggleable__label {background-color: #d4ebff;}#sk-container-id-4 div.sk-label input.sk-toggleable__control:checked~label.sk-toggleable__label {background-color: #d4ebff;}#sk-container-id-4 input.sk-hidden--visually {border: 0;clip: rect(1px 1px 1px 1px);clip: rect(1px, 1px, 1px, 1px);height: 1px;margin: -1px;overflow: hidden;padding: 0;position: absolute;width: 1px;}#sk-container-id-4 div.sk-estimator {font-family: monospace;background-color: #f0f8ff;border: 1px dotted black;border-radius: 0.25em;box-sizing: border-box;margin-bottom: 0.5em;}#sk-container-id-4 div.sk-estimator:hover {background-color: #d4ebff;}#sk-container-id-4 div.sk-parallel-item::after {content: \"\";width: 100%;border-bottom: 1px solid gray;flex-grow: 1;}#sk-container-id-4 div.sk-label:hover label.sk-toggleable__label {background-color: #d4ebff;}#sk-container-id-4 div.sk-serial::before {content: \"\";position: absolute;border-left: 1px solid gray;box-sizing: border-box;top: 0;bottom: 0;left: 50%;z-index: 0;}#sk-container-id-4 div.sk-serial {display: flex;flex-direction: column;align-items: center;background-color: white;padding-right: 0.2em;padding-left: 0.2em;position: relative;}#sk-container-id-4 div.sk-item {position: relative;z-index: 1;}#sk-container-id-4 div.sk-parallel {display: flex;align-items: stretch;justify-content: center;background-color: white;position: relative;}#sk-container-id-4 div.sk-item::before, #sk-container-id-4 div.sk-parallel-item::before {content: \"\";position: absolute;border-left: 1px solid gray;box-sizing: border-box;top: 0;bottom: 0;left: 50%;z-index: -1;}#sk-container-id-4 div.sk-parallel-item {display: flex;flex-direction: column;z-index: 1;position: relative;background-color: white;}#sk-container-id-4 div.sk-parallel-item:first-child::after {align-self: flex-end;width: 50%;}#sk-container-id-4 div.sk-parallel-item:last-child::after {align-self: flex-start;width: 50%;}#sk-container-id-4 div.sk-parallel-item:only-child::after {width: 0;}#sk-container-id-4 div.sk-dashed-wrapped {border: 1px dashed gray;margin: 0 0.4em 0.5em 0.4em;box-sizing: border-box;padding-bottom: 0.4em;background-color: white;}#sk-container-id-4 div.sk-label label {font-family: monospace;font-weight: bold;display: inline-block;line-height: 1.2em;}#sk-container-id-4 div.sk-label-container {text-align: center;}#sk-container-id-4 div.sk-container {/* jupyter's `normalize.less` sets `[hidden] { display: none; }` but bootstrap.min.css set `[hidden] { display: none !important; }` so we also need the `!important` here to be able to override the default hidden behavior on the sphinx rendered scikit-learn.org. See: https://github.com/scikit-learn/scikit-learn/issues/21755 */display: inline-block !important;position: relative;}#sk-container-id-4 div.sk-text-repr-fallback {display: none;}</style><div id=\"sk-container-id-4\" class=\"sk-top-container\"><div class=\"sk-text-repr-fallback\"><pre>XGBRegressor(base_score=None, booster=None, callbacks=None,\n             colsample_bylevel=None, colsample_bynode=None,\n             colsample_bytree=None, early_stopping_rounds=None,\n             enable_categorical=False, eval_metric=None, feature_types=None,\n             gamma=None, gpu_id=None, grow_policy=None, importance_type=None,\n             interaction_constraints=None, learning_rate=None, max_bin=None,\n             max_cat_threshold=None, max_cat_to_onehot=None,\n             max_delta_step=None, max_depth=None, max_leaves=None,\n             min_child_weight=None, missing=nan, monotone_constraints=None,\n             n_estimators=100, n_jobs=None, num_parallel_tree=None,\n             predictor=None, random_state=None, ...)</pre><b>In a Jupyter environment, please rerun this cell to show the HTML representation or trust the notebook. <br />On GitHub, the HTML representation is unable to render, please try loading this page with nbviewer.org.</b></div><div class=\"sk-container\" hidden><div class=\"sk-item\"><div class=\"sk-estimator sk-toggleable\"><input class=\"sk-toggleable__control sk-hidden--visually\" id=\"sk-estimator-id-4\" type=\"checkbox\" checked><label for=\"sk-estimator-id-4\" class=\"sk-toggleable__label sk-toggleable__label-arrow\">XGBRegressor</label><div class=\"sk-toggleable__content\"><pre>XGBRegressor(base_score=None, booster=None, callbacks=None,\n             colsample_bylevel=None, colsample_bynode=None,\n             colsample_bytree=None, early_stopping_rounds=None,\n             enable_categorical=False, eval_metric=None, feature_types=None,\n             gamma=None, gpu_id=None, grow_policy=None, importance_type=None,\n             interaction_constraints=None, learning_rate=None, max_bin=None,\n             max_cat_threshold=None, max_cat_to_onehot=None,\n             max_delta_step=None, max_depth=None, max_leaves=None,\n             min_child_weight=None, missing=nan, monotone_constraints=None,\n             n_estimators=100, n_jobs=None, num_parallel_tree=None,\n             predictor=None, random_state=None, ...)</pre></div></div></div></div></div>"
     },
     "execution_count": 79,
     "metadata": {},
     "output_type": "execute_result"
    }
   ],
   "source": [
    "regressor = XGBRegressor()\n",
    "regressor.fit(xTrain, yTrain)"
   ],
   "metadata": {
    "collapsed": false,
    "pycharm": {
     "name": "#%%\n"
    }
   }
  },
  {
   "cell_type": "code",
   "execution_count": 80,
   "outputs": [
    {
     "name": "stdout",
     "output_type": "stream",
     "text": [
      "[[3.33e+09 2.80e+09]\n",
      " [2.13e+09 2.20e+09]\n",
      " [3.05e+09 2.35e+09]\n",
      " [1.04e+09 7.80e+08]\n",
      " [1.87e+09 2.15e+09]\n",
      " [2.60e+09 2.30e+09]\n",
      " [3.69e+09 3.40e+09]\n",
      " [1.15e+09 6.20e+08]\n",
      " [1.02e+10 1.02e+10]\n",
      " [1.32e+09 1.65e+09]\n",
      " [2.49e+09 2.80e+09]\n",
      " [1.79e+09 1.45e+09]\n",
      " [5.60e+08 5.60e+08]\n",
      " [2.40e+09 2.03e+09]\n",
      " [2.08e+09 2.20e+09]]\n"
     ]
    }
   ],
   "source": [
    "yPred = regressor.predict(xTest)\n",
    "np.set_printoptions(precision=2)\n",
    "print(np.concatenate((yPred.reshape(len(yPred),1), yTest.reshape(len(yTest),1)),1))"
   ],
   "metadata": {
    "collapsed": false,
    "pycharm": {
     "name": "#%%\n"
    }
   }
  },
  {
   "cell_type": "code",
   "execution_count": 81,
   "outputs": [
    {
     "data": {
      "text/plain": "0.9744696593260145"
     },
     "execution_count": 81,
     "metadata": {},
     "output_type": "execute_result"
    }
   ],
   "source": [
    "r2_score(yTest, yPred)"
   ],
   "metadata": {
    "collapsed": false,
    "pycharm": {
     "name": "#%%\n"
    }
   }
  }
 ],
 "metadata": {
  "kernelspec": {
   "display_name": "Python 3",
   "language": "python",
   "name": "python3"
  },
  "language_info": {
   "codemirror_mode": {
    "name": "ipython",
    "version": 2
   },
   "file_extension": ".py",
   "mimetype": "text/x-python",
   "name": "python",
   "nbconvert_exporter": "python",
   "pygments_lexer": "ipython2",
   "version": "2.7.6"
  }
 },
 "nbformat": 4,
 "nbformat_minor": 0
}